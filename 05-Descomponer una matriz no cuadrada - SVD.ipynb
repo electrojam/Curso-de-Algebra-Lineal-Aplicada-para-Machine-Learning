{
 "cells": [
  {
   "cell_type": "code",
   "execution_count": 1,
   "id": "3688e276",
   "metadata": {},
   "outputs": [],
   "source": [
    "import numpy as np"
   ]
  },
  {
   "cell_type": "code",
   "execution_count": 3,
   "id": "d2c4d4c5",
   "metadata": {},
   "outputs": [
    {
     "name": "stdout",
     "output_type": "stream",
     "text": [
      "[[1 2 3]\n",
      " [3 4 5]]\n"
     ]
    }
   ],
   "source": [
    "A = np.array([[1,2,3], [3,4,5]])\n",
    "print(A)"
   ]
  },
  {
   "cell_type": "code",
   "execution_count": 8,
   "id": "303f442e",
   "metadata": {},
   "outputs": [],
   "source": [
    "# descomponemos matriz no cuadr;ática\n",
    "U, D, V = np.linalg.svd(A)"
   ]
  },
  {
   "cell_type": "code",
   "execution_count": 5,
   "id": "9ccb6537",
   "metadata": {},
   "outputs": [
    {
     "name": "stdout",
     "output_type": "stream",
     "text": [
      "[[-0.46410668  0.88577931]\n",
      " [-0.88577931 -0.46410668]]\n"
     ]
    }
   ],
   "source": [
    "print(U)"
   ]
  },
  {
   "cell_type": "code",
   "execution_count": 6,
   "id": "453e4962",
   "metadata": {},
   "outputs": [
    {
     "name": "stdout",
     "output_type": "stream",
     "text": [
      "[7.97638869 0.61418515]\n"
     ]
    }
   ],
   "source": [
    "print(D)"
   ]
  },
  {
   "cell_type": "code",
   "execution_count": 9,
   "id": "dc082eaf",
   "metadata": {},
   "outputs": [
    {
     "name": "stdout",
     "output_type": "stream",
     "text": [
      "[[7.97638869 0.        ]\n",
      " [0.         0.61418515]]\n"
     ]
    }
   ],
   "source": [
    "# imprimimos la matriz diagonal D\n",
    "\n",
    "print(np.diag(D))"
   ]
  },
  {
   "cell_type": "code",
   "execution_count": 10,
   "id": "750712a2",
   "metadata": {},
   "outputs": [
    {
     "name": "stdout",
     "output_type": "stream",
     "text": [
      "[[-0.39133557 -0.5605708  -0.72980603]\n",
      " [-0.8247362  -0.13817999  0.54837623]\n",
      " [ 0.40824829 -0.81649658  0.40824829]]\n"
     ]
    }
   ],
   "source": [
    "print(V)"
   ]
  },
  {
   "cell_type": "code",
   "execution_count": null,
   "id": "ae951781",
   "metadata": {},
   "outputs": [],
   "source": []
  }
 ],
 "metadata": {
  "kernelspec": {
   "display_name": "Python 3 (ipykernel)",
   "language": "python",
   "name": "python3"
  },
  "language_info": {
   "codemirror_mode": {
    "name": "ipython",
    "version": 3
   },
   "file_extension": ".py",
   "mimetype": "text/x-python",
   "name": "python",
   "nbconvert_exporter": "python",
   "pygments_lexer": "ipython3",
   "version": "3.7.1"
  }
 },
 "nbformat": 4,
 "nbformat_minor": 5
}
